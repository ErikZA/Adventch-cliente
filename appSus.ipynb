{
  "nbformat": 4,
  "nbformat_minor": 0,
  "metadata": {
    "colab": {
      "provenance": [],
      "authorship_tag": "ABX9TyPZ13fuIBkpMROS4ahVbwGw",
      "include_colab_link": true
    },
    "kernelspec": {
      "name": "python3",
      "display_name": "Python 3"
    },
    "language_info": {
      "name": "python"
    }
  },
  "cells": [
    {
      "cell_type": "markdown",
      "metadata": {
        "id": "view-in-github",
        "colab_type": "text"
      },
      "source": [
        "<a href=\"https://colab.research.google.com/github/ErikZA/Adventch-cliente/blob/master/appSus.ipynb\" target=\"_parent\"><img src=\"https://colab.research.google.com/assets/colab-badge.svg\" alt=\"Open In Colab\"/></a>"
      ]
    },
    {
      "cell_type": "code",
      "execution_count": 115,
      "metadata": {
        "id": "T_tqyOLZOIP-"
      },
      "outputs": [],
      "source": [
        "# Set dependencies\n",
        "import requests \n",
        "from requests.auth import HTTPBasicAuth\n",
        "import pandas as pd\n",
        "import json"
      ]
    },
    {
      "cell_type": "code",
      "source": [
        "# Set up the request parameters\n",
        "url = 'https://imunizacao-es.saude.gov.br/'\n",
        "firstPageParam = '_search?scroll=1m'\n",
        "nextPageParam = '_search/scroll'\n",
        "headers = {'Content-Type': 'application/json'}\n",
        "auth = HTTPBasicAuth('imunizacao_public', 'qlto5t&7r_@+#Tlstigi')\n",
        "data = {'size': 10000}"
      ],
      "metadata": {
        "id": "7gPE6fpaiE6h"
      },
      "execution_count": 116,
      "outputs": []
    },
    {
      "cell_type": "code",
      "source": [
        "# store data and pageId\n",
        "data_store = []\n",
        "pageId = \"\""
      ],
      "metadata": {
        "id": "EWXAvfscVh8G"
      },
      "execution_count": 117,
      "outputs": []
    },
    {
      "cell_type": "code",
      "source": [
        "# def function to validate if is there more data do fetch\n",
        "def checkDataSize(data):\n",
        "  return len(data) > 0"
      ],
      "metadata": {
        "id": "DadKzjkcHgD4"
      },
      "execution_count": 118,
      "outputs": []
    },
    {
      "cell_type": "code",
      "source": [
        "# def function to store data from api\n",
        "def storeDataFromApi(vc_store, vcData):\n",
        "  vc_store.extend(vcData)"
      ],
      "metadata": {
        "id": "xVlTToAaJnXb"
      },
      "execution_count": 119,
      "outputs": []
    },
    {
      "cell_type": "code",
      "source": [
        "# def function to get all data from api and store it\n",
        "def getDataFromApi(resData):\n",
        "  vacinasOpt = resData.json()\n",
        "  paginationId = vacinasOpt['_scroll_id']\n",
        "  vacinasData = vacinasOpt['hits']['hits']\n",
        "  return (vacinasData, paginationId)"
      ],
      "metadata": {
        "id": "PylViXnXmdcs"
      },
      "execution_count": 120,
      "outputs": []
    },
    {
      "cell_type": "code",
      "source": [
        "# def function to fetch data with pagination\n",
        "def getVaccinesWithScroll(scrollId):\n",
        "  data = { \"scroll_id\": scrollId, \"scroll\": \"1m\" }\n",
        "  print(data)\n",
        "  response = requests.post(url+nextPageParam, headers=headers, auth=auth, data=json.dumps(data))\n",
        "  teste = response.json()\n",
        "  print('jesus')\n",
        "  print(teste['_scroll_id'])\n",
        "  print(teste['hits']['hits'][0]['_source']['paciente_id'])\n",
        "  return response"
      ],
      "metadata": {
        "id": "XcUZYc8OIhZE"
      },
      "execution_count": 125,
      "outputs": []
    },
    {
      "cell_type": "code",
      "source": [
        "# Send the request using HTTP Basic Auth\n",
        "response = requests.post(url+firstPageParam, headers=headers, auth=auth, data=json.dumps(data))"
      ],
      "metadata": {
        "id": "4-eQGOdViIaQ"
      },
      "execution_count": 126,
      "outputs": []
    },
    {
      "cell_type": "code",
      "source": [
        "# get data form the first page\n",
        "currentData, paginationId = getDataFromApi(response)\n",
        "pageId = paginationId\n",
        "data_store.extend(currentData)"
      ],
      "metadata": {
        "id": "16kxNxUkGOTt"
      },
      "execution_count": 127,
      "outputs": []
    },
    {
      "cell_type": "code",
      "source": [
        "if len(currentData) > 0:\n",
        "  while True:\n",
        "    dataOpt = getVaccinesWithScroll(pageId)\n",
        "    currentData, paginationId = getDataFromApi(dataOpt)\n",
        "    pageId = paginationId\n",
        "    data_store.extend(currentData)\n",
        "    if checkDataSize(currentData) == False || len(data_store) == 100000  :\n",
        "      break\n",
        "    else:\n",
        "      continue"
      ],
      "metadata": {
        "id": "7XDhezMUnr7g"
      },
      "execution_count": null,
      "outputs": []
    },
    {
      "cell_type": "code",
      "source": [
        "#create a data frame with pandas\n",
        "vacinasOpt = vc_store.json()\n",
        "df_vacinasOpt = pd.json_normalize(vacinasOpt['hits']['hits'])\n",
        "df_vacinasOpt"
      ],
      "metadata": {
        "id": "FEJdg5eCkoRw"
      },
      "execution_count": null,
      "outputs": []
    }
  ]
}